{
 "cells": [
  {
   "cell_type": "code",
   "execution_count": 33,
   "metadata": {},
   "outputs": [],
   "source": [
    "import pandas as pd\n",
    "import matplotlib.pyplot as plt\n",
    "import seaborn as sns\n",
    "import numpy as np\n",
    "%matplotlib inline"
   ]
  },
  {
   "cell_type": "code",
   "execution_count": 34,
   "metadata": {},
   "outputs": [],
   "source": [
    "sns.set_style('darkgrid')\n",
    "plt.style.use('ggplot')"
   ]
  },
  {
   "cell_type": "code",
   "execution_count": 35,
   "metadata": {},
   "outputs": [],
   "source": [
    "ac_feat = pd.read_csv('acoustic_features.csv',delimiter = '\t')"
   ]
  },
  {
   "cell_type": "code",
   "execution_count": 36,
   "metadata": {},
   "outputs": [],
   "source": [
    "song_pop = pd.read_csv('song_pop.csv',delimiter = '\t')"
   ]
  },
  {
   "cell_type": "code",
   "execution_count": 37,
   "metadata": {},
   "outputs": [
    {
     "data": {
      "text/html": [
       "<div>\n",
       "<style scoped>\n",
       "    .dataframe tbody tr th:only-of-type {\n",
       "        vertical-align: middle;\n",
       "    }\n",
       "\n",
       "    .dataframe tbody tr th {\n",
       "        vertical-align: top;\n",
       "    }\n",
       "\n",
       "    .dataframe thead th {\n",
       "        text-align: right;\n",
       "    }\n",
       "</style>\n",
       "<table border=\"1\" class=\"dataframe\">\n",
       "  <thead>\n",
       "    <tr style=\"text-align: right;\">\n",
       "      <th></th>\n",
       "      <th>song_id</th>\n",
       "      <th>duration_ms</th>\n",
       "      <th>key</th>\n",
       "      <th>mode</th>\n",
       "      <th>time_signature</th>\n",
       "      <th>acousticness</th>\n",
       "      <th>danceability</th>\n",
       "      <th>energy</th>\n",
       "      <th>instrumentalness</th>\n",
       "      <th>liveness</th>\n",
       "      <th>loudness</th>\n",
       "      <th>speechiness</th>\n",
       "      <th>valence</th>\n",
       "      <th>tempo</th>\n",
       "    </tr>\n",
       "  </thead>\n",
       "  <tbody>\n",
       "    <tr>\n",
       "      <th>0</th>\n",
       "      <td>3e9HZxeyfWwjeyPAMmWSSQ</td>\n",
       "      <td>207320</td>\n",
       "      <td>1</td>\n",
       "      <td>1</td>\n",
       "      <td>4</td>\n",
       "      <td>0.22900</td>\n",
       "      <td>0.717</td>\n",
       "      <td>0.653</td>\n",
       "      <td>0.000000</td>\n",
       "      <td>0.1010</td>\n",
       "      <td>-5.634</td>\n",
       "      <td>0.0658</td>\n",
       "      <td>0.412</td>\n",
       "      <td>106.966</td>\n",
       "    </tr>\n",
       "    <tr>\n",
       "      <th>1</th>\n",
       "      <td>5p7ujcrUXASCNwRaWNHR1C</td>\n",
       "      <td>201661</td>\n",
       "      <td>6</td>\n",
       "      <td>1</td>\n",
       "      <td>4</td>\n",
       "      <td>0.29700</td>\n",
       "      <td>0.752</td>\n",
       "      <td>0.488</td>\n",
       "      <td>0.000009</td>\n",
       "      <td>0.0936</td>\n",
       "      <td>-7.050</td>\n",
       "      <td>0.0705</td>\n",
       "      <td>0.533</td>\n",
       "      <td>136.041</td>\n",
       "    </tr>\n",
       "    <tr>\n",
       "      <th>2</th>\n",
       "      <td>2xLMifQCjDGFmkHkpNLD9h</td>\n",
       "      <td>312820</td>\n",
       "      <td>8</td>\n",
       "      <td>1</td>\n",
       "      <td>4</td>\n",
       "      <td>0.00513</td>\n",
       "      <td>0.834</td>\n",
       "      <td>0.730</td>\n",
       "      <td>0.000000</td>\n",
       "      <td>0.1240</td>\n",
       "      <td>-3.714</td>\n",
       "      <td>0.2220</td>\n",
       "      <td>0.446</td>\n",
       "      <td>155.008</td>\n",
       "    </tr>\n",
       "    <tr>\n",
       "      <th>3</th>\n",
       "      <td>3KkXRkHbMCARz0aVfEt68P</td>\n",
       "      <td>158040</td>\n",
       "      <td>2</td>\n",
       "      <td>1</td>\n",
       "      <td>4</td>\n",
       "      <td>0.55600</td>\n",
       "      <td>0.760</td>\n",
       "      <td>0.479</td>\n",
       "      <td>0.000000</td>\n",
       "      <td>0.0703</td>\n",
       "      <td>-5.574</td>\n",
       "      <td>0.0466</td>\n",
       "      <td>0.913</td>\n",
       "      <td>89.911</td>\n",
       "    </tr>\n",
       "    <tr>\n",
       "      <th>4</th>\n",
       "      <td>1rqqCSm0Qe4I9rUvWncaom</td>\n",
       "      <td>190947</td>\n",
       "      <td>5</td>\n",
       "      <td>1</td>\n",
       "      <td>4</td>\n",
       "      <td>0.19300</td>\n",
       "      <td>0.579</td>\n",
       "      <td>0.904</td>\n",
       "      <td>0.000000</td>\n",
       "      <td>0.0640</td>\n",
       "      <td>-2.729</td>\n",
       "      <td>0.0618</td>\n",
       "      <td>0.681</td>\n",
       "      <td>82.014</td>\n",
       "    </tr>\n",
       "  </tbody>\n",
       "</table>\n",
       "</div>"
      ],
      "text/plain": [
       "                  song_id  duration_ms  key  mode  time_signature  \\\n",
       "0  3e9HZxeyfWwjeyPAMmWSSQ       207320    1     1               4   \n",
       "1  5p7ujcrUXASCNwRaWNHR1C       201661    6     1               4   \n",
       "2  2xLMifQCjDGFmkHkpNLD9h       312820    8     1               4   \n",
       "3  3KkXRkHbMCARz0aVfEt68P       158040    2     1               4   \n",
       "4  1rqqCSm0Qe4I9rUvWncaom       190947    5     1               4   \n",
       "\n",
       "   acousticness  danceability  energy  instrumentalness  liveness  loudness  \\\n",
       "0       0.22900         0.717   0.653          0.000000    0.1010    -5.634   \n",
       "1       0.29700         0.752   0.488          0.000009    0.0936    -7.050   \n",
       "2       0.00513         0.834   0.730          0.000000    0.1240    -3.714   \n",
       "3       0.55600         0.760   0.479          0.000000    0.0703    -5.574   \n",
       "4       0.19300         0.579   0.904          0.000000    0.0640    -2.729   \n",
       "\n",
       "   speechiness  valence    tempo  \n",
       "0       0.0658    0.412  106.966  \n",
       "1       0.0705    0.533  136.041  \n",
       "2       0.2220    0.446  155.008  \n",
       "3       0.0466    0.913   89.911  \n",
       "4       0.0618    0.681   82.014  "
      ]
     },
     "execution_count": 37,
     "metadata": {},
     "output_type": "execute_result"
    }
   ],
   "source": [
    "ac_feat.head()"
   ]
  },
  {
   "cell_type": "code",
   "execution_count": 38,
   "metadata": {},
   "outputs": [
    {
     "data": {
      "text/html": [
       "<div>\n",
       "<style scoped>\n",
       "    .dataframe tbody tr th:only-of-type {\n",
       "        vertical-align: middle;\n",
       "    }\n",
       "\n",
       "    .dataframe tbody tr th {\n",
       "        vertical-align: top;\n",
       "    }\n",
       "\n",
       "    .dataframe thead th {\n",
       "        text-align: right;\n",
       "    }\n",
       "</style>\n",
       "<table border=\"1\" class=\"dataframe\">\n",
       "  <thead>\n",
       "    <tr style=\"text-align: right;\">\n",
       "      <th></th>\n",
       "      <th>song_id</th>\n",
       "      <th>year_end_score</th>\n",
       "      <th>is_pop</th>\n",
       "      <th>year</th>\n",
       "    </tr>\n",
       "  </thead>\n",
       "  <tbody>\n",
       "    <tr>\n",
       "      <th>0</th>\n",
       "      <td>0tgVpDi06FyKpA1z0VMD4v</td>\n",
       "      <td>5617</td>\n",
       "      <td>True</td>\n",
       "      <td>2018</td>\n",
       "    </tr>\n",
       "    <tr>\n",
       "      <th>1</th>\n",
       "      <td>3lFf4DnT68QjQGB3iq1BJ9</td>\n",
       "      <td>5549</td>\n",
       "      <td>True</td>\n",
       "      <td>2018</td>\n",
       "    </tr>\n",
       "    <tr>\n",
       "      <th>2</th>\n",
       "      <td>09IStsImFySgyp0pIQdqAc</td>\n",
       "      <td>4590</td>\n",
       "      <td>True</td>\n",
       "      <td>2018</td>\n",
       "    </tr>\n",
       "    <tr>\n",
       "      <th>3</th>\n",
       "      <td>3ee8Jmje8o58CHK66QrVC2</td>\n",
       "      <td>4430</td>\n",
       "      <td>True</td>\n",
       "      <td>2018</td>\n",
       "    </tr>\n",
       "    <tr>\n",
       "      <th>4</th>\n",
       "      <td>0U2pP3HpalMInP1lOhECsw</td>\n",
       "      <td>4363</td>\n",
       "      <td>True</td>\n",
       "      <td>2018</td>\n",
       "    </tr>\n",
       "  </tbody>\n",
       "</table>\n",
       "</div>"
      ],
      "text/plain": [
       "                  song_id  year_end_score  is_pop  year\n",
       "0  0tgVpDi06FyKpA1z0VMD4v            5617    True  2018\n",
       "1  3lFf4DnT68QjQGB3iq1BJ9            5549    True  2018\n",
       "2  09IStsImFySgyp0pIQdqAc            4590    True  2018\n",
       "3  3ee8Jmje8o58CHK66QrVC2            4430    True  2018\n",
       "4  0U2pP3HpalMInP1lOhECsw            4363    True  2018"
      ]
     },
     "execution_count": 38,
     "metadata": {},
     "output_type": "execute_result"
    }
   ],
   "source": [
    "song_pop.head()"
   ]
  },
  {
   "cell_type": "code",
   "execution_count": 39,
   "metadata": {},
   "outputs": [
    {
     "data": {
      "text/plain": [
       "Index(['song_id', 'duration_ms', 'key', 'mode', 'time_signature',\n",
       "       'acousticness', 'danceability', 'energy', 'instrumentalness',\n",
       "       'liveness', 'loudness', 'speechiness', 'valence', 'tempo'],\n",
       "      dtype='object')"
      ]
     },
     "execution_count": 39,
     "metadata": {},
     "output_type": "execute_result"
    }
   ],
   "source": [
    "ac_feat.columns"
   ]
  },
  {
   "cell_type": "code",
   "execution_count": 40,
   "metadata": {},
   "outputs": [],
   "source": [
    "final_data = pd.merge(ac_feat, song_pop, how = 'inner', on ='song_id')"
   ]
  },
  {
   "cell_type": "code",
   "execution_count": 41,
   "metadata": {},
   "outputs": [
    {
     "data": {
      "text/html": [
       "<div>\n",
       "<style scoped>\n",
       "    .dataframe tbody tr th:only-of-type {\n",
       "        vertical-align: middle;\n",
       "    }\n",
       "\n",
       "    .dataframe tbody tr th {\n",
       "        vertical-align: top;\n",
       "    }\n",
       "\n",
       "    .dataframe thead th {\n",
       "        text-align: right;\n",
       "    }\n",
       "</style>\n",
       "<table border=\"1\" class=\"dataframe\">\n",
       "  <thead>\n",
       "    <tr style=\"text-align: right;\">\n",
       "      <th></th>\n",
       "      <th>song_id</th>\n",
       "      <th>duration_ms</th>\n",
       "      <th>key</th>\n",
       "      <th>mode</th>\n",
       "      <th>time_signature</th>\n",
       "      <th>acousticness</th>\n",
       "      <th>danceability</th>\n",
       "      <th>energy</th>\n",
       "      <th>instrumentalness</th>\n",
       "      <th>liveness</th>\n",
       "      <th>loudness</th>\n",
       "      <th>speechiness</th>\n",
       "      <th>valence</th>\n",
       "      <th>tempo</th>\n",
       "      <th>year_end_score</th>\n",
       "      <th>is_pop</th>\n",
       "      <th>year</th>\n",
       "    </tr>\n",
       "  </thead>\n",
       "  <tbody>\n",
       "    <tr>\n",
       "      <th>0</th>\n",
       "      <td>3e9HZxeyfWwjeyPAMmWSSQ</td>\n",
       "      <td>207320</td>\n",
       "      <td>1</td>\n",
       "      <td>1</td>\n",
       "      <td>4</td>\n",
       "      <td>0.22900</td>\n",
       "      <td>0.717</td>\n",
       "      <td>0.653</td>\n",
       "      <td>0.000000</td>\n",
       "      <td>0.1010</td>\n",
       "      <td>-5.634</td>\n",
       "      <td>0.0658</td>\n",
       "      <td>0.412</td>\n",
       "      <td>106.966</td>\n",
       "      <td>728</td>\n",
       "      <td>True</td>\n",
       "      <td>2018</td>\n",
       "    </tr>\n",
       "    <tr>\n",
       "      <th>1</th>\n",
       "      <td>5p7ujcrUXASCNwRaWNHR1C</td>\n",
       "      <td>201661</td>\n",
       "      <td>6</td>\n",
       "      <td>1</td>\n",
       "      <td>4</td>\n",
       "      <td>0.29700</td>\n",
       "      <td>0.752</td>\n",
       "      <td>0.488</td>\n",
       "      <td>0.000009</td>\n",
       "      <td>0.0936</td>\n",
       "      <td>-7.050</td>\n",
       "      <td>0.0705</td>\n",
       "      <td>0.533</td>\n",
       "      <td>136.041</td>\n",
       "      <td>1094</td>\n",
       "      <td>True</td>\n",
       "      <td>2018</td>\n",
       "    </tr>\n",
       "    <tr>\n",
       "      <th>2</th>\n",
       "      <td>2xLMifQCjDGFmkHkpNLD9h</td>\n",
       "      <td>312820</td>\n",
       "      <td>8</td>\n",
       "      <td>1</td>\n",
       "      <td>4</td>\n",
       "      <td>0.00513</td>\n",
       "      <td>0.834</td>\n",
       "      <td>0.730</td>\n",
       "      <td>0.000000</td>\n",
       "      <td>0.1240</td>\n",
       "      <td>-3.714</td>\n",
       "      <td>0.2220</td>\n",
       "      <td>0.446</td>\n",
       "      <td>155.008</td>\n",
       "      <td>2171</td>\n",
       "      <td>True</td>\n",
       "      <td>2018</td>\n",
       "    </tr>\n",
       "    <tr>\n",
       "      <th>3</th>\n",
       "      <td>3KkXRkHbMCARz0aVfEt68P</td>\n",
       "      <td>158040</td>\n",
       "      <td>2</td>\n",
       "      <td>1</td>\n",
       "      <td>4</td>\n",
       "      <td>0.55600</td>\n",
       "      <td>0.760</td>\n",
       "      <td>0.479</td>\n",
       "      <td>0.000000</td>\n",
       "      <td>0.0703</td>\n",
       "      <td>-5.574</td>\n",
       "      <td>0.0466</td>\n",
       "      <td>0.913</td>\n",
       "      <td>89.911</td>\n",
       "      <td>879</td>\n",
       "      <td>True</td>\n",
       "      <td>2018</td>\n",
       "    </tr>\n",
       "    <tr>\n",
       "      <th>4</th>\n",
       "      <td>1rqqCSm0Qe4I9rUvWncaom</td>\n",
       "      <td>190947</td>\n",
       "      <td>5</td>\n",
       "      <td>1</td>\n",
       "      <td>4</td>\n",
       "      <td>0.19300</td>\n",
       "      <td>0.579</td>\n",
       "      <td>0.904</td>\n",
       "      <td>0.000000</td>\n",
       "      <td>0.0640</td>\n",
       "      <td>-2.729</td>\n",
       "      <td>0.0618</td>\n",
       "      <td>0.681</td>\n",
       "      <td>82.014</td>\n",
       "      <td>1464</td>\n",
       "      <td>True</td>\n",
       "      <td>2018</td>\n",
       "    </tr>\n",
       "  </tbody>\n",
       "</table>\n",
       "</div>"
      ],
      "text/plain": [
       "                  song_id  duration_ms  key  mode  time_signature  \\\n",
       "0  3e9HZxeyfWwjeyPAMmWSSQ       207320    1     1               4   \n",
       "1  5p7ujcrUXASCNwRaWNHR1C       201661    6     1               4   \n",
       "2  2xLMifQCjDGFmkHkpNLD9h       312820    8     1               4   \n",
       "3  3KkXRkHbMCARz0aVfEt68P       158040    2     1               4   \n",
       "4  1rqqCSm0Qe4I9rUvWncaom       190947    5     1               4   \n",
       "\n",
       "   acousticness  danceability  energy  instrumentalness  liveness  loudness  \\\n",
       "0       0.22900         0.717   0.653          0.000000    0.1010    -5.634   \n",
       "1       0.29700         0.752   0.488          0.000009    0.0936    -7.050   \n",
       "2       0.00513         0.834   0.730          0.000000    0.1240    -3.714   \n",
       "3       0.55600         0.760   0.479          0.000000    0.0703    -5.574   \n",
       "4       0.19300         0.579   0.904          0.000000    0.0640    -2.729   \n",
       "\n",
       "   speechiness  valence    tempo  year_end_score  is_pop  year  \n",
       "0       0.0658    0.412  106.966             728    True  2018  \n",
       "1       0.0705    0.533  136.041            1094    True  2018  \n",
       "2       0.2220    0.446  155.008            2171    True  2018  \n",
       "3       0.0466    0.913   89.911             879    True  2018  \n",
       "4       0.0618    0.681   82.014            1464    True  2018  "
      ]
     },
     "execution_count": 41,
     "metadata": {},
     "output_type": "execute_result"
    }
   ],
   "source": [
    "final_data.head()"
   ]
  },
  {
   "cell_type": "code",
   "execution_count": 42,
   "metadata": {},
   "outputs": [],
   "source": [
    "final_data.drop(['duration_ms', 'key','mode','year'], axis=1,inplace=True)"
   ]
  },
  {
   "cell_type": "code",
   "execution_count": 43,
   "metadata": {},
   "outputs": [],
   "source": [
    "final_data = pd.get_dummies(final_data,columns=['is_pop'],drop_first=True)"
   ]
  },
  {
   "cell_type": "code",
   "execution_count": 44,
   "metadata": {},
   "outputs": [
    {
     "data": {
      "text/html": [
       "<div>\n",
       "<style scoped>\n",
       "    .dataframe tbody tr th:only-of-type {\n",
       "        vertical-align: middle;\n",
       "    }\n",
       "\n",
       "    .dataframe tbody tr th {\n",
       "        vertical-align: top;\n",
       "    }\n",
       "\n",
       "    .dataframe thead th {\n",
       "        text-align: right;\n",
       "    }\n",
       "</style>\n",
       "<table border=\"1\" class=\"dataframe\">\n",
       "  <thead>\n",
       "    <tr style=\"text-align: right;\">\n",
       "      <th></th>\n",
       "      <th>song_id</th>\n",
       "      <th>time_signature</th>\n",
       "      <th>acousticness</th>\n",
       "      <th>danceability</th>\n",
       "      <th>energy</th>\n",
       "      <th>instrumentalness</th>\n",
       "      <th>liveness</th>\n",
       "      <th>loudness</th>\n",
       "      <th>speechiness</th>\n",
       "      <th>valence</th>\n",
       "      <th>tempo</th>\n",
       "      <th>year_end_score</th>\n",
       "      <th>is_pop_True</th>\n",
       "    </tr>\n",
       "  </thead>\n",
       "  <tbody>\n",
       "    <tr>\n",
       "      <th>0</th>\n",
       "      <td>3e9HZxeyfWwjeyPAMmWSSQ</td>\n",
       "      <td>4</td>\n",
       "      <td>0.22900</td>\n",
       "      <td>0.717</td>\n",
       "      <td>0.653</td>\n",
       "      <td>0.000000</td>\n",
       "      <td>0.1010</td>\n",
       "      <td>-5.634</td>\n",
       "      <td>0.0658</td>\n",
       "      <td>0.412</td>\n",
       "      <td>106.966</td>\n",
       "      <td>728</td>\n",
       "      <td>1</td>\n",
       "    </tr>\n",
       "    <tr>\n",
       "      <th>1</th>\n",
       "      <td>5p7ujcrUXASCNwRaWNHR1C</td>\n",
       "      <td>4</td>\n",
       "      <td>0.29700</td>\n",
       "      <td>0.752</td>\n",
       "      <td>0.488</td>\n",
       "      <td>0.000009</td>\n",
       "      <td>0.0936</td>\n",
       "      <td>-7.050</td>\n",
       "      <td>0.0705</td>\n",
       "      <td>0.533</td>\n",
       "      <td>136.041</td>\n",
       "      <td>1094</td>\n",
       "      <td>1</td>\n",
       "    </tr>\n",
       "    <tr>\n",
       "      <th>2</th>\n",
       "      <td>2xLMifQCjDGFmkHkpNLD9h</td>\n",
       "      <td>4</td>\n",
       "      <td>0.00513</td>\n",
       "      <td>0.834</td>\n",
       "      <td>0.730</td>\n",
       "      <td>0.000000</td>\n",
       "      <td>0.1240</td>\n",
       "      <td>-3.714</td>\n",
       "      <td>0.2220</td>\n",
       "      <td>0.446</td>\n",
       "      <td>155.008</td>\n",
       "      <td>2171</td>\n",
       "      <td>1</td>\n",
       "    </tr>\n",
       "    <tr>\n",
       "      <th>3</th>\n",
       "      <td>3KkXRkHbMCARz0aVfEt68P</td>\n",
       "      <td>4</td>\n",
       "      <td>0.55600</td>\n",
       "      <td>0.760</td>\n",
       "      <td>0.479</td>\n",
       "      <td>0.000000</td>\n",
       "      <td>0.0703</td>\n",
       "      <td>-5.574</td>\n",
       "      <td>0.0466</td>\n",
       "      <td>0.913</td>\n",
       "      <td>89.911</td>\n",
       "      <td>879</td>\n",
       "      <td>1</td>\n",
       "    </tr>\n",
       "    <tr>\n",
       "      <th>4</th>\n",
       "      <td>1rqqCSm0Qe4I9rUvWncaom</td>\n",
       "      <td>4</td>\n",
       "      <td>0.19300</td>\n",
       "      <td>0.579</td>\n",
       "      <td>0.904</td>\n",
       "      <td>0.000000</td>\n",
       "      <td>0.0640</td>\n",
       "      <td>-2.729</td>\n",
       "      <td>0.0618</td>\n",
       "      <td>0.681</td>\n",
       "      <td>82.014</td>\n",
       "      <td>1464</td>\n",
       "      <td>1</td>\n",
       "    </tr>\n",
       "  </tbody>\n",
       "</table>\n",
       "</div>"
      ],
      "text/plain": [
       "                  song_id  time_signature  acousticness  danceability  energy  \\\n",
       "0  3e9HZxeyfWwjeyPAMmWSSQ               4       0.22900         0.717   0.653   \n",
       "1  5p7ujcrUXASCNwRaWNHR1C               4       0.29700         0.752   0.488   \n",
       "2  2xLMifQCjDGFmkHkpNLD9h               4       0.00513         0.834   0.730   \n",
       "3  3KkXRkHbMCARz0aVfEt68P               4       0.55600         0.760   0.479   \n",
       "4  1rqqCSm0Qe4I9rUvWncaom               4       0.19300         0.579   0.904   \n",
       "\n",
       "   instrumentalness  liveness  loudness  speechiness  valence    tempo  \\\n",
       "0          0.000000    0.1010    -5.634       0.0658    0.412  106.966   \n",
       "1          0.000009    0.0936    -7.050       0.0705    0.533  136.041   \n",
       "2          0.000000    0.1240    -3.714       0.2220    0.446  155.008   \n",
       "3          0.000000    0.0703    -5.574       0.0466    0.913   89.911   \n",
       "4          0.000000    0.0640    -2.729       0.0618    0.681   82.014   \n",
       "\n",
       "   year_end_score  is_pop_True  \n",
       "0             728            1  \n",
       "1            1094            1  \n",
       "2            2171            1  \n",
       "3             879            1  \n",
       "4            1464            1  "
      ]
     },
     "execution_count": 44,
     "metadata": {},
     "output_type": "execute_result"
    }
   ],
   "source": [
    "final_data.head()"
   ]
  },
  {
   "cell_type": "code",
   "execution_count": 45,
   "metadata": {},
   "outputs": [
    {
     "data": {
      "text/plain": [
       "6851"
      ]
     },
     "execution_count": 45,
     "metadata": {},
     "output_type": "execute_result"
    }
   ],
   "source": [
    "final_data['year_end_score'].max()"
   ]
  },
  {
   "cell_type": "code",
   "execution_count": 46,
   "metadata": {},
   "outputs": [
    {
     "data": {
      "text/plain": [
       "20402"
      ]
     },
     "execution_count": 46,
     "metadata": {},
     "output_type": "execute_result"
    }
   ],
   "source": [
    "final_data['song_id'].nunique()"
   ]
  },
  {
   "cell_type": "code",
   "execution_count": 47,
   "metadata": {},
   "outputs": [],
   "source": [
    "final_data.sort_values(by='year_end_score',ascending = False, inplace = True)"
   ]
  },
  {
   "cell_type": "code",
   "execution_count": 48,
   "metadata": {},
   "outputs": [],
   "source": [
    "final_data.drop_duplicates(subset = 'song_id',keep = 'first', inplace = True)"
   ]
  },
  {
   "cell_type": "code",
   "execution_count": 49,
   "metadata": {},
   "outputs": [
    {
     "data": {
      "text/plain": [
       "1nSUJWYRqsafI8Bh1X0ypp    1\n",
       "4c2Y6CSbllwlutw5bKaUtK    1\n",
       "29PVuKcHn9oSr9ziAbQmyY    1\n",
       "2QZ7WLBE8h2y1Y5Fb8RYbH    1\n",
       "50UkypyQJbSQLaXHke5Yep    1\n",
       "                         ..\n",
       "1SQGx4GPml33ywGdNDMuBg    1\n",
       "2QfjV18pg4Ye7Vo4TsSobq    1\n",
       "6Na5uKk5SsqZimk0hAWo8y    1\n",
       "7txxAtOMwLLnQTpKeBL6bp    1\n",
       "6sSRhTPxBomvVYAyLpkLa1    1\n",
       "Name: song_id, Length: 20402, dtype: int64"
      ]
     },
     "execution_count": 49,
     "metadata": {},
     "output_type": "execute_result"
    }
   ],
   "source": [
    "final_data['song_id'].value_counts()"
   ]
  },
  {
   "cell_type": "code",
   "execution_count": 50,
   "metadata": {},
   "outputs": [
    {
     "name": "stdout",
     "output_type": "stream",
     "text": [
      "<class 'pandas.core.frame.DataFrame'>\n",
      "Int64Index: 20402 entries, 1730 to 23853\n",
      "Data columns (total 13 columns):\n",
      " #   Column            Non-Null Count  Dtype  \n",
      "---  ------            --------------  -----  \n",
      " 0   song_id           20402 non-null  object \n",
      " 1   time_signature    20402 non-null  int64  \n",
      " 2   acousticness      20402 non-null  float64\n",
      " 3   danceability      20402 non-null  float64\n",
      " 4   energy            20402 non-null  float64\n",
      " 5   instrumentalness  20402 non-null  float64\n",
      " 6   liveness          20402 non-null  float64\n",
      " 7   loudness          20402 non-null  float64\n",
      " 8   speechiness       20402 non-null  float64\n",
      " 9   valence           20402 non-null  float64\n",
      " 10  tempo             20402 non-null  float64\n",
      " 11  year_end_score    20402 non-null  int64  \n",
      " 12  is_pop_True       20402 non-null  uint8  \n",
      "dtypes: float64(9), int64(2), object(1), uint8(1)\n",
      "memory usage: 2.0+ MB\n"
     ]
    }
   ],
   "source": [
    "final_data.info()"
   ]
  },
  {
   "cell_type": "code",
   "execution_count": 51,
   "metadata": {},
   "outputs": [],
   "source": [
    "from sklearn.model_selection import train_test_split"
   ]
  },
  {
   "cell_type": "code",
   "execution_count": 52,
   "metadata": {},
   "outputs": [],
   "source": [
    "X_train, X_test, y_train, y_test = train_test_split(final_data.drop(['song_id','time_signature','year_end_score'],axis = 1), final_data['year_end_score'], test_size=0.3, random_state=101)"
   ]
  },
  {
   "cell_type": "code",
   "execution_count": 53,
   "metadata": {},
   "outputs": [
    {
     "data": {
      "text/html": [
       "<div>\n",
       "<style scoped>\n",
       "    .dataframe tbody tr th:only-of-type {\n",
       "        vertical-align: middle;\n",
       "    }\n",
       "\n",
       "    .dataframe tbody tr th {\n",
       "        vertical-align: top;\n",
       "    }\n",
       "\n",
       "    .dataframe thead th {\n",
       "        text-align: right;\n",
       "    }\n",
       "</style>\n",
       "<table border=\"1\" class=\"dataframe\">\n",
       "  <thead>\n",
       "    <tr style=\"text-align: right;\">\n",
       "      <th></th>\n",
       "      <th>acousticness</th>\n",
       "      <th>danceability</th>\n",
       "      <th>energy</th>\n",
       "      <th>instrumentalness</th>\n",
       "      <th>liveness</th>\n",
       "      <th>loudness</th>\n",
       "      <th>speechiness</th>\n",
       "      <th>valence</th>\n",
       "      <th>tempo</th>\n",
       "      <th>is_pop_True</th>\n",
       "    </tr>\n",
       "  </thead>\n",
       "  <tbody>\n",
       "    <tr>\n",
       "      <th>1730</th>\n",
       "      <td>0.11400</td>\n",
       "      <td>0.457</td>\n",
       "      <td>0.793</td>\n",
       "      <td>0.000101</td>\n",
       "      <td>0.671</td>\n",
       "      <td>-3.699</td>\n",
       "      <td>0.0634</td>\n",
       "      <td>0.195</td>\n",
       "      <td>136.382</td>\n",
       "      <td>1</td>\n",
       "    </tr>\n",
       "    <tr>\n",
       "      <th>1278</th>\n",
       "      <td>0.47400</td>\n",
       "      <td>0.781</td>\n",
       "      <td>0.445</td>\n",
       "      <td>0.000000</td>\n",
       "      <td>0.184</td>\n",
       "      <td>-6.061</td>\n",
       "      <td>0.0295</td>\n",
       "      <td>0.591</td>\n",
       "      <td>78.998</td>\n",
       "      <td>1</td>\n",
       "    </tr>\n",
       "    <tr>\n",
       "      <th>1564</th>\n",
       "      <td>0.92200</td>\n",
       "      <td>0.422</td>\n",
       "      <td>0.264</td>\n",
       "      <td>0.000000</td>\n",
       "      <td>0.132</td>\n",
       "      <td>-7.064</td>\n",
       "      <td>0.0322</td>\n",
       "      <td>0.331</td>\n",
       "      <td>119.930</td>\n",
       "      <td>1</td>\n",
       "    </tr>\n",
       "    <tr>\n",
       "      <th>3855</th>\n",
       "      <td>0.27100</td>\n",
       "      <td>0.519</td>\n",
       "      <td>0.749</td>\n",
       "      <td>0.000000</td>\n",
       "      <td>0.119</td>\n",
       "      <td>-3.318</td>\n",
       "      <td>0.0405</td>\n",
       "      <td>0.290</td>\n",
       "      <td>147.905</td>\n",
       "      <td>1</td>\n",
       "    </tr>\n",
       "    <tr>\n",
       "      <th>3236</th>\n",
       "      <td>0.59500</td>\n",
       "      <td>0.686</td>\n",
       "      <td>0.457</td>\n",
       "      <td>0.000000</td>\n",
       "      <td>0.105</td>\n",
       "      <td>-8.322</td>\n",
       "      <td>0.0468</td>\n",
       "      <td>0.718</td>\n",
       "      <td>150.953</td>\n",
       "      <td>1</td>\n",
       "    </tr>\n",
       "    <tr>\n",
       "      <th>...</th>\n",
       "      <td>...</td>\n",
       "      <td>...</td>\n",
       "      <td>...</td>\n",
       "      <td>...</td>\n",
       "      <td>...</td>\n",
       "      <td>...</td>\n",
       "      <td>...</td>\n",
       "      <td>...</td>\n",
       "      <td>...</td>\n",
       "      <td>...</td>\n",
       "    </tr>\n",
       "    <tr>\n",
       "      <th>17987</th>\n",
       "      <td>0.65100</td>\n",
       "      <td>0.569</td>\n",
       "      <td>0.322</td>\n",
       "      <td>0.000000</td>\n",
       "      <td>0.353</td>\n",
       "      <td>-13.346</td>\n",
       "      <td>0.0328</td>\n",
       "      <td>0.742</td>\n",
       "      <td>99.976</td>\n",
       "      <td>0</td>\n",
       "    </tr>\n",
       "    <tr>\n",
       "      <th>17974</th>\n",
       "      <td>0.59200</td>\n",
       "      <td>0.527</td>\n",
       "      <td>0.545</td>\n",
       "      <td>0.000000</td>\n",
       "      <td>0.358</td>\n",
       "      <td>-8.355</td>\n",
       "      <td>0.0402</td>\n",
       "      <td>0.732</td>\n",
       "      <td>74.922</td>\n",
       "      <td>0</td>\n",
       "    </tr>\n",
       "    <tr>\n",
       "      <th>9598</th>\n",
       "      <td>0.00224</td>\n",
       "      <td>0.565</td>\n",
       "      <td>0.777</td>\n",
       "      <td>0.055500</td>\n",
       "      <td>0.213</td>\n",
       "      <td>-3.233</td>\n",
       "      <td>0.0335</td>\n",
       "      <td>0.395</td>\n",
       "      <td>123.102</td>\n",
       "      <td>0</td>\n",
       "    </tr>\n",
       "    <tr>\n",
       "      <th>17952</th>\n",
       "      <td>0.35500</td>\n",
       "      <td>0.486</td>\n",
       "      <td>0.537</td>\n",
       "      <td>0.000002</td>\n",
       "      <td>0.202</td>\n",
       "      <td>-10.081</td>\n",
       "      <td>0.0293</td>\n",
       "      <td>0.905</td>\n",
       "      <td>151.868</td>\n",
       "      <td>0</td>\n",
       "    </tr>\n",
       "    <tr>\n",
       "      <th>23853</th>\n",
       "      <td>0.00981</td>\n",
       "      <td>0.581</td>\n",
       "      <td>0.714</td>\n",
       "      <td>0.000000</td>\n",
       "      <td>0.216</td>\n",
       "      <td>-6.637</td>\n",
       "      <td>0.1950</td>\n",
       "      <td>0.563</td>\n",
       "      <td>166.089</td>\n",
       "      <td>0</td>\n",
       "    </tr>\n",
       "  </tbody>\n",
       "</table>\n",
       "<p>20402 rows × 10 columns</p>\n",
       "</div>"
      ],
      "text/plain": [
       "       acousticness  danceability  energy  instrumentalness  liveness  \\\n",
       "1730        0.11400         0.457   0.793          0.000101     0.671   \n",
       "1278        0.47400         0.781   0.445          0.000000     0.184   \n",
       "1564        0.92200         0.422   0.264          0.000000     0.132   \n",
       "3855        0.27100         0.519   0.749          0.000000     0.119   \n",
       "3236        0.59500         0.686   0.457          0.000000     0.105   \n",
       "...             ...           ...     ...               ...       ...   \n",
       "17987       0.65100         0.569   0.322          0.000000     0.353   \n",
       "17974       0.59200         0.527   0.545          0.000000     0.358   \n",
       "9598        0.00224         0.565   0.777          0.055500     0.213   \n",
       "17952       0.35500         0.486   0.537          0.000002     0.202   \n",
       "23853       0.00981         0.581   0.714          0.000000     0.216   \n",
       "\n",
       "       loudness  speechiness  valence    tempo  is_pop_True  \n",
       "1730     -3.699       0.0634    0.195  136.382            1  \n",
       "1278     -6.061       0.0295    0.591   78.998            1  \n",
       "1564     -7.064       0.0322    0.331  119.930            1  \n",
       "3855     -3.318       0.0405    0.290  147.905            1  \n",
       "3236     -8.322       0.0468    0.718  150.953            1  \n",
       "...         ...          ...      ...      ...          ...  \n",
       "17987   -13.346       0.0328    0.742   99.976            0  \n",
       "17974    -8.355       0.0402    0.732   74.922            0  \n",
       "9598     -3.233       0.0335    0.395  123.102            0  \n",
       "17952   -10.081       0.0293    0.905  151.868            0  \n",
       "23853    -6.637       0.1950    0.563  166.089            0  \n",
       "\n",
       "[20402 rows x 10 columns]"
      ]
     },
     "execution_count": 53,
     "metadata": {},
     "output_type": "execute_result"
    }
   ],
   "source": [
    "final_data.drop(['song_id','time_signature','year_end_score'],axis = 1)"
   ]
  },
  {
   "cell_type": "code",
   "execution_count": 54,
   "metadata": {},
   "outputs": [
    {
     "data": {
      "text/plain": [
       "1730     6851\n",
       "1278     6400\n",
       "1564     6281\n",
       "3855     6261\n",
       "3236     6191\n",
       "         ... \n",
       "17987       1\n",
       "17974       1\n",
       "9598        1\n",
       "17952       1\n",
       "23853       1\n",
       "Name: year_end_score, Length: 20402, dtype: int64"
      ]
     },
     "execution_count": 54,
     "metadata": {},
     "output_type": "execute_result"
    }
   ],
   "source": [
    "final_data['year_end_score']"
   ]
  },
  {
   "cell_type": "code",
   "execution_count": 55,
   "metadata": {},
   "outputs": [],
   "source": [
    "from sklearn.linear_model import LinearRegression"
   ]
  },
  {
   "cell_type": "code",
   "execution_count": 56,
   "metadata": {},
   "outputs": [],
   "source": [
    "lm = LinearRegression()"
   ]
  },
  {
   "cell_type": "code",
   "execution_count": 57,
   "metadata": {},
   "outputs": [
    {
     "data": {
      "text/plain": [
       "LinearRegression()"
      ]
     },
     "execution_count": 57,
     "metadata": {},
     "output_type": "execute_result"
    }
   ],
   "source": [
    "lm.fit(X_train,y_train)"
   ]
  },
  {
   "cell_type": "code",
   "execution_count": 58,
   "metadata": {},
   "outputs": [],
   "source": [
    "predictions = lm.predict(X_test)"
   ]
  },
  {
   "cell_type": "code",
   "execution_count": 59,
   "metadata": {},
   "outputs": [
    {
     "name": "stderr",
     "output_type": "stream",
     "text": [
      "C:\\Users\\ASUS\\anaconda3\\lib\\site-packages\\seaborn\\_decorators.py:36: FutureWarning: Pass the following variables as keyword args: x, y. From version 0.12, the only valid positional argument will be `data`, and passing other arguments without an explicit keyword will result in an error or misinterpretation.\n",
      "  warnings.warn(\n"
     ]
    },
    {
     "data": {
      "text/plain": [
       "<AxesSubplot:xlabel='year_end_score'>"
      ]
     },
     "execution_count": 59,
     "metadata": {},
     "output_type": "execute_result"
    },
    {
     "data": {
      "image/png": "[encoded data removed]",
      "text/plain": [
       "<Figure size 432x288 with 1 Axes>"
      ]
     },
     "metadata": {},
     "output_type": "display_data"
    }
   ],
   "source": [
    "sns.scatterplot(y_test,predictions)"
   ]
  },
  {
   "cell_type": "code",
   "execution_count": 60,
   "metadata": {},
   "outputs": [],
   "source": [
    "from sklearn import metrics"
   ]
  },
  {
   "cell_type": "code",
   "execution_count": 61,
   "metadata": {},
   "outputs": [
    {
     "name": "stdout",
     "output_type": "stream",
     "text": [
      "MAE: 337.98920178578896\n",
      "MSE: 261360.804751717\n",
      "RMSE: 511.2345887669544\n"
     ]
    }
   ],
   "source": [
    "print('MAE:', metrics.mean_absolute_error(y_test,predictions))\n",
    "print('MSE:', metrics.mean_squared_error(y_test,predictions))\n",
    "print('RMSE:', np.sqrt(metrics.mean_squared_error(y_test,predictions)))"
   ]
  },
  {
   "cell_type": "code",
   "execution_count": 62,
   "metadata": {},
   "outputs": [
    {
     "data": {
      "text/plain": [
       "<seaborn.axisgrid.FacetGrid at 0x2478bdc68e0>"
      ]
     },
     "execution_count": 62,
     "metadata": {},
     "output_type": "execute_result"
    },
    {
     "data": {
      "image/png": "[encoded data removed]",
      "text/plain": [
       "<Figure size 360x360 with 1 Axes>"
      ]
     },
     "metadata": {},
     "output_type": "display_data"
    }
   ],
   "source": [
    "sns.displot((y_test-predictions),bins = 50,kde = True)"
   ]
  },
  {
   "cell_type": "code",
   "execution_count": 63,
   "metadata": {},
   "outputs": [],
   "source": [
    "coef_df= pd.DataFrame(lm.coef_, (final_data.drop(['song_id','time_signature','year_end_score'],axis = 1)).columns,columns = ['Coefficient'])"
   ]
  },
  {
   "cell_type": "code",
   "execution_count": 64,
   "metadata": {},
   "outputs": [
    {
     "data": {
      "text/html": [
       "<div>\n",
       "<style scoped>\n",
       "    .dataframe tbody tr th:only-of-type {\n",
       "        vertical-align: middle;\n",
       "    }\n",
       "\n",
       "    .dataframe tbody tr th {\n",
       "        vertical-align: top;\n",
       "    }\n",
       "\n",
       "    .dataframe thead th {\n",
       "        text-align: right;\n",
       "    }\n",
       "</style>\n",
       "<table border=\"1\" class=\"dataframe\">\n",
       "  <thead>\n",
       "    <tr style=\"text-align: right;\">\n",
       "      <th></th>\n",
       "      <th>Coefficient</th>\n",
       "    </tr>\n",
       "  </thead>\n",
       "  <tbody>\n",
       "    <tr>\n",
       "      <th>acousticness</th>\n",
       "      <td>-216.266692</td>\n",
       "    </tr>\n",
       "    <tr>\n",
       "      <th>danceability</th>\n",
       "      <td>563.766444</td>\n",
       "    </tr>\n",
       "    <tr>\n",
       "      <th>energy</th>\n",
       "      <td>-79.779819</td>\n",
       "    </tr>\n",
       "    <tr>\n",
       "      <th>instrumentalness</th>\n",
       "      <td>0.715331</td>\n",
       "    </tr>\n",
       "    <tr>\n",
       "      <th>liveness</th>\n",
       "      <td>-54.543427</td>\n",
       "    </tr>\n",
       "    <tr>\n",
       "      <th>loudness</th>\n",
       "      <td>15.518616</td>\n",
       "    </tr>\n",
       "    <tr>\n",
       "      <th>speechiness</th>\n",
       "      <td>-63.324004</td>\n",
       "    </tr>\n",
       "    <tr>\n",
       "      <th>valence</th>\n",
       "      <td>-312.829643</td>\n",
       "    </tr>\n",
       "    <tr>\n",
       "      <th>tempo</th>\n",
       "      <td>0.079628</td>\n",
       "    </tr>\n",
       "    <tr>\n",
       "      <th>is_pop_True</th>\n",
       "      <td>1127.374548</td>\n",
       "    </tr>\n",
       "  </tbody>\n",
       "</table>\n",
       "</div>"
      ],
      "text/plain": [
       "                  Coefficient\n",
       "acousticness      -216.266692\n",
       "danceability       563.766444\n",
       "energy             -79.779819\n",
       "instrumentalness     0.715331\n",
       "liveness           -54.543427\n",
       "loudness            15.518616\n",
       "speechiness        -63.324004\n",
       "valence           -312.829643\n",
       "tempo                0.079628\n",
       "is_pop_True       1127.374548"
      ]
     },
     "execution_count": 64,
     "metadata": {},
     "output_type": "execute_result"
    }
   ],
   "source": [
    "coef_df"
   ]
  },
  {
   "cell_type": "code",
   "execution_count": 66,
   "metadata": {},
   "outputs": [],
   "source": [
    "from sklearn.preprocessing import PolynomialFeatures"
   ]
  },
  {
   "cell_type": "code",
   "execution_count": 68,
   "metadata": {},
   "outputs": [],
   "source": [
    "X = final_data.drop(['song_id','time_signature','year_end_score'],axis = 1)\n",
    "y = final_data['year_end_score']"
   ]
  },
  {
   "cell_type": "code",
   "execution_count": 69,
   "metadata": {},
   "outputs": [],
   "source": [
    "X_train, X_test, y_train, y_test = train_test_split(X, y, test_size=0.3, random_state=101)"
   ]
  },
  {
   "cell_type": "code",
   "execution_count": 77,
   "metadata": {},
   "outputs": [
    {
     "data": {
      "text/plain": [
       "LinearRegression()"
      ]
     },
     "execution_count": 77,
     "metadata": {},
     "output_type": "execute_result"
    }
   ],
   "source": [
    "poly_reg = PolynomialFeatures(degree=7)\n",
    "X_poly = poly_reg.fit_transform(X)\n",
    "pol_reg = LinearRegression()\n",
    "pol_reg.fit(X_train, y_train)"
   ]
  },
  {
   "cell_type": "code",
   "execution_count": 78,
   "metadata": {},
   "outputs": [],
   "source": [
    "predictions = pol_reg.predict(X_test)"
   ]
  },
  {
   "cell_type": "code",
   "execution_count": 79,
   "metadata": {},
   "outputs": [
    {
     "name": "stderr",
     "output_type": "stream",
     "text": [
      "C:\\Users\\ASUS\\anaconda3\\lib\\site-packages\\seaborn\\_decorators.py:36: FutureWarning: Pass the following variables as keyword args: x, y. From version 0.12, the only valid positional argument will be `data`, and passing other arguments without an explicit keyword will result in an error or misinterpretation.\n",
      "  warnings.warn(\n"
     ]
    },
    {
     "data": {
      "text/plain": [
       "<AxesSubplot:xlabel='year_end_score'>"
      ]
     },
     "execution_count": 79,
     "metadata": {},
     "output_type": "execute_result"
    },
    {
     "data": {
      "image/png": "[encoded data removed]",
      "text/plain": [
       "<Figure size 432x288 with 1 Axes>"
      ]
     },
     "metadata": {},
     "output_type": "display_data"
    }
   ],
   "source": [
    "sns.scatterplot(y_test,predictions)"
   ]
  },
  {
   "cell_type": "code",
   "execution_count": 80,
   "metadata": {},
   "outputs": [],
   "source": [
    "from sklearn import metrics"
   ]
  },
  {
   "cell_type": "code",
   "execution_count": 81,
   "metadata": {},
   "outputs": [
    {
     "name": "stdout",
     "output_type": "stream",
     "text": [
      "MAE: 337.98920178578896\n",
      "MSE: 261360.804751717\n",
      "RMSE: 511.2345887669544\n"
     ]
    }
   ],
   "source": [
    "print('MAE:', metrics.mean_absolute_error(y_test,predictions))\n",
    "print('MSE:', metrics.mean_squared_error(y_test,predictions))\n",
    "print('RMSE:', np.sqrt(metrics.mean_squared_error(y_test,predictions)))"
   ]
  },
  {
   "cell_type": "code",
   "execution_count": 82,
   "metadata": {},
   "outputs": [
    {
     "data": {
      "text/plain": [
       "<seaborn.axisgrid.FacetGrid at 0x2478c6a7940>"
      ]
     },
     "execution_count": 82,
     "metadata": {},
     "output_type": "execute_result"
    },
    {
     "data": {
      "image/png": "[encoded data removed]",
      "text/plain": [
       "<Figure size 360x360 with 1 Axes>"
      ]
     },
     "metadata": {},
     "output_type": "display_data"
    }
   ],
   "source": [
    "sns.displot((y_test-predictions),bins = 50,kde = True)"
   ]
  },
  {
   "cell_type": "code",
   "execution_count": 83,
   "metadata": {},
   "outputs": [],
   "source": [
    "coef_df= pd.DataFrame(lm.coef_, (final_data.drop(['song_id','time_signature','year_end_score'],axis = 1)).columns,columns = ['Coefficient'])"
   ]
  },
  {
   "cell_type": "code",
   "execution_count": 84,
   "metadata": {},
   "outputs": [
    {
     "data": {
      "text/html": [
       "<div>\n",
       "<style scoped>\n",
       "    .dataframe tbody tr th:only-of-type {\n",
       "        vertical-align: middle;\n",
       "    }\n",
       "\n",
       "    .dataframe tbody tr th {\n",
       "        vertical-align: top;\n",
       "    }\n",
       "\n",
       "    .dataframe thead th {\n",
       "        text-align: right;\n",
       "    }\n",
       "</style>\n",
       "<table border=\"1\" class=\"dataframe\">\n",
       "  <thead>\n",
       "    <tr style=\"text-align: right;\">\n",
       "      <th></th>\n",
       "      <th>Coefficient</th>\n",
       "    </tr>\n",
       "  </thead>\n",
       "  <tbody>\n",
       "    <tr>\n",
       "      <th>acousticness</th>\n",
       "      <td>-216.266692</td>\n",
       "    </tr>\n",
       "    <tr>\n",
       "      <th>danceability</th>\n",
       "      <td>563.766444</td>\n",
       "    </tr>\n",
       "    <tr>\n",
       "      <th>energy</th>\n",
       "      <td>-79.779819</td>\n",
       "    </tr>\n",
       "    <tr>\n",
       "      <th>instrumentalness</th>\n",
       "      <td>0.715331</td>\n",
       "    </tr>\n",
       "    <tr>\n",
       "      <th>liveness</th>\n",
       "      <td>-54.543427</td>\n",
       "    </tr>\n",
       "    <tr>\n",
       "      <th>loudness</th>\n",
       "      <td>15.518616</td>\n",
       "    </tr>\n",
       "    <tr>\n",
       "      <th>speechiness</th>\n",
       "      <td>-63.324004</td>\n",
       "    </tr>\n",
       "    <tr>\n",
       "      <th>valence</th>\n",
       "      <td>-312.829643</td>\n",
       "    </tr>\n",
       "    <tr>\n",
       "      <th>tempo</th>\n",
       "      <td>0.079628</td>\n",
       "    </tr>\n",
       "    <tr>\n",
       "      <th>is_pop_True</th>\n",
       "      <td>1127.374548</td>\n",
       "    </tr>\n",
       "  </tbody>\n",
       "</table>\n",
       "</div>"
      ],
      "text/plain": [
       "                  Coefficient\n",
       "acousticness      -216.266692\n",
       "danceability       563.766444\n",
       "energy             -79.779819\n",
       "instrumentalness     0.715331\n",
       "liveness           -54.543427\n",
       "loudness            15.518616\n",
       "speechiness        -63.324004\n",
       "valence           -312.829643\n",
       "tempo                0.079628\n",
       "is_pop_True       1127.374548"
      ]
     },
     "execution_count": 84,
     "metadata": {},
     "output_type": "execute_result"
    }
   ],
   "source": [
    "coef_df"
   ]
  },
  {
   "cell_type": "code",
   "execution_count": 85,
   "metadata": {},
   "outputs": [
    {
     "data": {
      "text/html": [
       "<div>\n",
       "<style scoped>\n",
       "    .dataframe tbody tr th:only-of-type {\n",
       "        vertical-align: middle;\n",
       "    }\n",
       "\n",
       "    .dataframe tbody tr th {\n",
       "        vertical-align: top;\n",
       "    }\n",
       "\n",
       "    .dataframe thead th {\n",
       "        text-align: right;\n",
       "    }\n",
       "</style>\n",
       "<table border=\"1\" class=\"dataframe\">\n",
       "  <thead>\n",
       "    <tr style=\"text-align: right;\">\n",
       "      <th></th>\n",
       "      <th>time_signature</th>\n",
       "      <th>acousticness</th>\n",
       "      <th>danceability</th>\n",
       "      <th>energy</th>\n",
       "      <th>instrumentalness</th>\n",
       "      <th>liveness</th>\n",
       "      <th>loudness</th>\n",
       "      <th>speechiness</th>\n",
       "      <th>valence</th>\n",
       "      <th>tempo</th>\n",
       "      <th>year_end_score</th>\n",
       "      <th>is_pop_True</th>\n",
       "    </tr>\n",
       "  </thead>\n",
       "  <tbody>\n",
       "    <tr>\n",
       "      <th>count</th>\n",
       "      <td>20402.000000</td>\n",
       "      <td>20402.000000</td>\n",
       "      <td>20402.000000</td>\n",
       "      <td>20402.000000</td>\n",
       "      <td>20402.000000</td>\n",
       "      <td>20402.000000</td>\n",
       "      <td>20402.000000</td>\n",
       "      <td>20402.000000</td>\n",
       "      <td>20402.000000</td>\n",
       "      <td>20402.000000</td>\n",
       "      <td>20402.000000</td>\n",
       "      <td>20402.000000</td>\n",
       "    </tr>\n",
       "    <tr>\n",
       "      <th>mean</th>\n",
       "      <td>3.943584</td>\n",
       "      <td>0.265215</td>\n",
       "      <td>0.600356</td>\n",
       "      <td>0.625031</td>\n",
       "      <td>0.047551</td>\n",
       "      <td>0.192274</td>\n",
       "      <td>-8.845347</td>\n",
       "      <td>0.067533</td>\n",
       "      <td>0.607777</td>\n",
       "      <td>120.310803</td>\n",
       "      <td>777.384521</td>\n",
       "      <td>0.459024</td>\n",
       "    </tr>\n",
       "    <tr>\n",
       "      <th>std</th>\n",
       "      <td>0.289183</td>\n",
       "      <td>0.264377</td>\n",
       "      <td>0.150620</td>\n",
       "      <td>0.197119</td>\n",
       "      <td>0.168430</td>\n",
       "      <td>0.163929</td>\n",
       "      <td>3.593065</td>\n",
       "      <td>0.074373</td>\n",
       "      <td>0.236530</td>\n",
       "      <td>27.683967</td>\n",
       "      <td>766.740996</td>\n",
       "      <td>0.498330</td>\n",
       "    </tr>\n",
       "    <tr>\n",
       "      <th>min</th>\n",
       "      <td>0.000000</td>\n",
       "      <td>0.000001</td>\n",
       "      <td>0.000000</td>\n",
       "      <td>0.006640</td>\n",
       "      <td>0.000000</td>\n",
       "      <td>0.013000</td>\n",
       "      <td>-30.896000</td>\n",
       "      <td>0.000000</td>\n",
       "      <td>0.000000</td>\n",
       "      <td>0.000000</td>\n",
       "      <td>1.000000</td>\n",
       "      <td>0.000000</td>\n",
       "    </tr>\n",
       "    <tr>\n",
       "      <th>25%</th>\n",
       "      <td>4.000000</td>\n",
       "      <td>0.039200</td>\n",
       "      <td>0.502000</td>\n",
       "      <td>0.481000</td>\n",
       "      <td>0.000000</td>\n",
       "      <td>0.088300</td>\n",
       "      <td>-11.217750</td>\n",
       "      <td>0.031900</td>\n",
       "      <td>0.427000</td>\n",
       "      <td>99.734250</td>\n",
       "      <td>170.000000</td>\n",
       "      <td>0.000000</td>\n",
       "    </tr>\n",
       "    <tr>\n",
       "      <th>50%</th>\n",
       "      <td>4.000000</td>\n",
       "      <td>0.169500</td>\n",
       "      <td>0.608000</td>\n",
       "      <td>0.640000</td>\n",
       "      <td>0.000010</td>\n",
       "      <td>0.129000</td>\n",
       "      <td>-8.471000</td>\n",
       "      <td>0.040400</td>\n",
       "      <td>0.632000</td>\n",
       "      <td>118.951000</td>\n",
       "      <td>563.000000</td>\n",
       "      <td>0.000000</td>\n",
       "    </tr>\n",
       "    <tr>\n",
       "      <th>75%</th>\n",
       "      <td>4.000000</td>\n",
       "      <td>0.440000</td>\n",
       "      <td>0.706000</td>\n",
       "      <td>0.783000</td>\n",
       "      <td>0.001107</td>\n",
       "      <td>0.249000</td>\n",
       "      <td>-6.051000</td>\n",
       "      <td>0.063000</td>\n",
       "      <td>0.804000</td>\n",
       "      <td>135.898250</td>\n",
       "      <td>1181.000000</td>\n",
       "      <td>1.000000</td>\n",
       "    </tr>\n",
       "    <tr>\n",
       "      <th>max</th>\n",
       "      <td>5.000000</td>\n",
       "      <td>0.995000</td>\n",
       "      <td>0.988000</td>\n",
       "      <td>0.998000</td>\n",
       "      <td>0.985000</td>\n",
       "      <td>0.997000</td>\n",
       "      <td>3.440000</td>\n",
       "      <td>0.950000</td>\n",
       "      <td>1.000000</td>\n",
       "      <td>231.028000</td>\n",
       "      <td>6851.000000</td>\n",
       "      <td>1.000000</td>\n",
       "    </tr>\n",
       "  </tbody>\n",
       "</table>\n",
       "</div>"
      ],
      "text/plain": [
       "       time_signature  acousticness  danceability        energy  \\\n",
       "count    20402.000000  20402.000000  20402.000000  20402.000000   \n",
       "mean         3.943584      0.265215      0.600356      0.625031   \n",
       "std          0.289183      0.264377      0.150620      0.197119   \n",
       "min          0.000000      0.000001      0.000000      0.006640   \n",
       "25%          4.000000      0.039200      0.502000      0.481000   \n",
       "50%          4.000000      0.169500      0.608000      0.640000   \n",
       "75%          4.000000      0.440000      0.706000      0.783000   \n",
       "max          5.000000      0.995000      0.988000      0.998000   \n",
       "\n",
       "       instrumentalness      liveness      loudness   speechiness  \\\n",
       "count      20402.000000  20402.000000  20402.000000  20402.000000   \n",
       "mean           0.047551      0.192274     -8.845347      0.067533   \n",
       "std            0.168430      0.163929      3.593065      0.074373   \n",
       "min            0.000000      0.013000    -30.896000      0.000000   \n",
       "25%            0.000000      0.088300    -11.217750      0.031900   \n",
       "50%            0.000010      0.129000     -8.471000      0.040400   \n",
       "75%            0.001107      0.249000     -6.051000      0.063000   \n",
       "max            0.985000      0.997000      3.440000      0.950000   \n",
       "\n",
       "            valence         tempo  year_end_score   is_pop_True  \n",
       "count  20402.000000  20402.000000    20402.000000  20402.000000  \n",
       "mean       0.607777    120.310803      777.384521      0.459024  \n",
       "std        0.236530     27.683967      766.740996      0.498330  \n",
       "min        0.000000      0.000000        1.000000      0.000000  \n",
       "25%        0.427000     99.734250      170.000000      0.000000  \n",
       "50%        0.632000    118.951000      563.000000      0.000000  \n",
       "75%        0.804000    135.898250     1181.000000      1.000000  \n",
       "max        1.000000    231.028000     6851.000000      1.000000  "
      ]
     },
     "execution_count": 85,
     "metadata": {},
     "output_type": "execute_result"
    }
   ],
   "source": [
    "final_data.describe()"
   ]
  },
  {
   "cell_type": "code",
   "execution_count": null,
   "metadata": {},
   "outputs": [],
   "source": []
  }
 ],
 "metadata": {
  "interpreter": {
   "hash": "380030d1298d5a27518acca789ff38fe82bbf2e68b73263de6a6bf23efb7704c"
  },
  "kernelspec": {
   "display_name": "Python 3",
   "language": "python",
   "name": "python3"
  },
  "language_info": {
   "codemirror_mode": {
    "name": "ipython",
    "version": 3
   },
   "file_extension": ".py",
   "mimetype": "text/x-python",
   "name": "python",
   "nbconvert_exporter": "python",
   "pygments_lexer": "ipython3",
   "version": "3.8.5"
  },
  "toc": {
   "base_numbering": 1,
   "nav_menu": {},
   "number_sections": false,
   "sideBar": false,
   "skip_h1_title": false,
   "title_cell": "Table of Contents",
   "title_sidebar": "Contents",
   "toc_cell": false,
   "toc_position": {},
   "toc_section_display": false,
   "toc_window_display": false
  }
 },
 "nbformat": 4,
 "nbformat_minor": 4
}
